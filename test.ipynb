{
 "cells": [
  {
   "cell_type": "code",
   "execution_count": 1,
   "metadata": {},
   "outputs": [],
   "source": [
    "import torch\n",
    "import torch.nn as nn\n",
    "import torch.nn.functional as F\n",
    "\n",
    "import numpy as np\n",
    "\n",
    "from consts.static import *\n",
    "from helper.helper_functions import *\n",
    "from models.tachkil.model import *\n",
    "from helper.prosody_postprocessing import prosody_form, normalize\n",
    "\n",
    "device = torch.device('cuda' if torch.cuda.is_available() else 'cpu')\n",
    "device\n",
    "\n",
    "\n",
    "special = ['َ', 'ُ', 'ِ', 'ً', 'ٌ', 'ٍ', 'َّ',\n",
    "           'ُّ', 'ِّ', 'ًّ', 'ٌّ', 'ٍّ', 'ْ', 'ّ']\n",
    "sps_dict = {}\n",
    "for i, c in enumerate(special):\n",
    "    sps_dict[c] = i\n",
    "\n",
    "\n",
    "\n",
    "\n",
    "VOCAB_SIZE = len(tachkil_vocab)+1  # 0 is for the padding\n",
    "OUTPUT_SIZE = len(special)+1  # +1 for the non tachkil\n",
    "\n",
    "model_tachkil = TachkilLstmModel(\n",
    "    256,\n",
    "    VOCAB_SIZE,\n",
    "    OUTPUT_SIZE).to(device)\n",
    "\n",
    "\n",
    "model_tachkil.load_state_dict(torch.load(\n",
    "    'models/tachkil/tachkil_model.pt', map_location=device))\n",
    "\n",
    "\n",
    "poem = \"\"\"كَأَنَّما البَصرَةُ مُذ جُزتَها\n",
    "أَشلاءُ غِمدٍ سُلَّ مِنهُ الحُسام\n",
    "بُدِّلَتِ الوَحشَة مِن أُنسِها\n",
    "وَأُلبِسَت بَعدَ الضِياءِ الظَلام\n",
    "وَكُلُّ أَرضٍ فَقَدَت شَمسَها\n",
    "غَشّى الدُجى ساحاتِها وَالخِيام\n",
    "وَالآنَ إِذ عُدتَ إِلَيها زَهَت\n",
    "وَاِبتَسَمَت بِالبِشرِ أَيَّ اِبتِسام\n",
    "فَلا خَلَت مِنكَ الرَعايا وَلا\n",
    "زِلتَ لِمُرفَضِّ المَعالي نِظام\"\"\".strip().split('\\n')\n",
    "\n",
    "# poem = ['فيه على ما فيه من قُوَّةٍ', 'رقَّه ماء النيل، والكَوثر']\n",
    "\n",
    "poem = [\"أَسِرْبَ القَطا هَلْ مَنْ يُعِيْرُ جَناحَهُ\"]"
   ]
  },
  {
   "cell_type": "code",
   "execution_count": 2,
   "metadata": {},
   "outputs": [],
   "source": [
    "poem = ['صُمَّ صَداها وَعَفا رَسمُها']"
   ]
  },
  {
   "cell_type": "code",
   "execution_count": 10,
   "metadata": {},
   "outputs": [],
   "source": [
    "def get_tachkil(line):\n",
    "    S, T, _ = get_sentence_tachkil(line)\n",
    "\n",
    "    x = tachkil_sentence2tokens(S)\n",
    "    x = torch.tensor(x, dtype=torch.int64)\n",
    "    L = len(x)\n",
    "    x = nn.ConstantPad1d((0, 50 - x.shape[0]), 0)(x)\n",
    "    x = x.unsqueeze(0).to(device)\n",
    "\n",
    "    out = model_tachkil(x)\n",
    "    out = torch.argmax(out, dim=-1)[0, :L].cpu()\n",
    "    out = list(np.array(out))\n",
    " \n",
    "    out = rebuild_sentence(S, out, T)\n",
    "\n",
    "    norm_out = normalize(out)\n",
    "    prosody_out = prosody_form(norm_out)\n",
    "\n",
    "\n",
    "    return {\n",
    "        'predicted': norm_out,\n",
    "        'aroudi'   : prosody_out\n",
    "    }\n"
   ]
  },
  {
   "cell_type": "code",
   "execution_count": 11,
   "metadata": {},
   "outputs": [
    {
     "data": {
      "text/plain": [
       "{'predicted': 'شَمسٌ إِذَا طَلَعَت سَجَدَتُ جَلَالَةً',\n",
       " 'aroudi': 'شَمسُنْ إِذَا طَلَعَت سَجَدَتُ جَلَالَتَنْ'}"
      ]
     },
     "execution_count": 11,
     "metadata": {},
     "output_type": "execute_result"
    }
   ],
   "source": [
    "get_tachkil('شَمسٌ إِذا طَلَعَت سَجَدتُ جَلالَةً')"
   ]
  },
  {
   "cell_type": "code",
   "execution_count": 80,
   "metadata": {},
   "outputs": [],
   "source": [
    "\n",
    "def rebuild_sentence(S, T, real_T=None):\n",
    "    res = ''\n",
    "\n",
    "    if real_T is None:\n",
    "        for c, t in zip(S, T):\n",
    "            if t == 14:\n",
    "                res += c\n",
    "            else:\n",
    "                res = res + c + special[t]\n",
    "\n",
    "\n",
    "    else:\n",
    "        for c, t, rt in zip(S, T, real_T):\n",
    "            if rt != -1:\n",
    "                res = res + c + special[rt]\n",
    "            else:\n",
    "                if t == 14:\n",
    "                    res += c\n",
    "                else:\n",
    "                    res = res + c + special[t]\n",
    "\n",
    "    return res\n"
   ]
  },
  {
   "cell_type": "code",
   "execution_count": 52,
   "metadata": {},
   "outputs": [],
   "source": [
    "def tachkil_text(txt):\n",
    "    S, T, _ = get_sentence_tachkil(txt)\n",
    "\n",
    "    x = tachkil_sentence2tokens(S)\n",
    "    x = torch.tensor(x, dtype=torch.int64)\n",
    "    L = len(x)\n",
    "    x = nn.ConstantPad1d((0, 50 - x.shape[0]), 0)(x)\n",
    "    x = x.unsqueeze(0).to(device)\n",
    "\n",
    "    out = model_tachkil(x)\n",
    "    out = torch.argmax(out, dim=-1)[0, :L].cpu()\n",
    "    out = list(np.array(out))\n",
    " \n",
    "    out = rebuild_sentence(S, out, T)\n",
    "\n",
    "    out = normalize(out)\n",
    "    \n",
    "    return out\n"
   ]
  },
  {
   "cell_type": "code",
   "execution_count": 65,
   "metadata": {},
   "outputs": [],
   "source": [
    "poem = ['فيه على ما فيه من قُوَّةٍ', 'رقَّه ماء النيل، والكَوثر']"
   ]
  },
  {
   "cell_type": "code",
   "execution_count": 66,
   "metadata": {},
   "outputs": [
    {
     "name": "stdout",
     "output_type": "stream",
     "text": [
      "فِيهِ عَلَى مَا فِيهِ مِنْ قُوَّةٍ\n",
      "رَقَّهُ مَاءَ النِّيلِِ وَالْكَوْثَرُ\n"
     ]
    }
   ],
   "source": [
    "for line in poem:\n",
    "    print(tachkil_text(line))"
   ]
  },
  {
   "cell_type": "code",
   "execution_count": 90,
   "metadata": {},
   "outputs": [
    {
     "ename": "SyntaxError",
     "evalue": "invalid syntax (4226301909.py, line 9)",
     "output_type": "error",
     "traceback": [
      "\u001b[0;36m  File \u001b[0;32m\"/tmp/ipykernel_26887/4226301909.py\"\u001b[0;36m, line \u001b[0;32m9\u001b[0m\n\u001b[0;31m    \"WWSWS\":[\"SALIM\", \"QABDH\"],\u001b[0m\n\u001b[0m           ^\u001b[0m\n\u001b[0;31mSyntaxError\u001b[0m\u001b[0;31m:\u001b[0m invalid syntax\n"
     ]
    }
   ],
   "source": [
    "tawiil = {\n",
    "    \"name\": {\n",
    "        \"arabic\": u\"طويل\",\n",
    "        \"english\": \"long\",\n",
    "        \"trans\": u\"ṭawīl\"\n",
    "    },\n",
    "    \"meter\": [\n",
    "        [\n",
    "        \"WWSWS\":[\"SALIM\", \"QABDH\"],\n",
    "        \"WWSWSWS\":[\"SALIM\", \"QABDH\", \"KAFF\"],\n",
    "        \"WWSWS\":[\"SALIM\", \"QABDH\"],\n",
    "        \"WWSWSWS\":[\"QABDH\"],\n",
    "        ]\n",
    "    ],\n",
    "    \"key\": u\"طويلٌ له دون البحور فضائلٌ  فعولن مفاعيلن فعولن مفاعلن\"\n",
    "}"
   ]
  },
  {
   "cell_type": "code",
   "execution_count": 91,
   "metadata": {},
   "outputs": [
    {
     "ename": "SyntaxError",
     "evalue": "cannot assign to literal (4051098912.py, line 1)",
     "output_type": "error",
     "traceback": [
      "\u001b[0;36m  File \u001b[0;32m\"/tmp/ipykernel_26887/4051098912.py\"\u001b[0;36m, line \u001b[0;32m1\u001b[0m\n\u001b[0;31m    \"WSWWS\" = {\u001b[0m\n\u001b[0m    ^\u001b[0m\n\u001b[0;31mSyntaxError\u001b[0m\u001b[0;31m:\u001b[0m cannot assign to literal\n"
     ]
    }
   ],
   "source": [
    "\"WSWWS\" = {\n",
    "        \n",
    "            \"SALIM\":u\"فَاعِلُنْ\",\n",
    "            \n",
    "        \n",
    "        \n",
    "            \"KHABN\":u\"فَعِلُنْ\",\n",
    "            \n",
    "        \n",
    "        \n",
    "            \"TARFIIL\":u\"فَاعِلَاتُنْ\",\n",
    "            \n",
    "        \n",
    "        \n",
    "            \"TADIIL\":u\"فَاعِلَانْ\",\n",
    "            \n",
    "        \n",
    "        \n",
    "            \"QATE\":u\"فِعْلُنْ\",\n",
    "            \n",
    "        \n",
    "        }"
   ]
  }
 ],
 "metadata": {
  "interpreter": {
   "hash": "916dbcbb3f70747c44a77c7bcd40155683ae19c65e1c03b4aa3499c5328201f1"
  },
  "kernelspec": {
   "display_name": "Python 3.8.10 64-bit",
   "language": "python",
   "name": "python3"
  },
  "language_info": {
   "codemirror_mode": {
    "name": "ipython",
    "version": 3
   },
   "file_extension": ".py",
   "mimetype": "text/x-python",
   "name": "python",
   "nbconvert_exporter": "python",
   "pygments_lexer": "ipython3",
   "version": "3.8.10"
  },
  "orig_nbformat": 4
 },
 "nbformat": 4,
 "nbformat_minor": 2
}
