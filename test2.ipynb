{
 "cells": [
  {
   "cell_type": "code",
   "execution_count": 11,
   "metadata": {},
   "outputs": [],
   "source": [
    "from helper.helper_functions import *\n",
    "from consts.static import vocab\n",
    "from consts.AWZAN import AWZAN"
   ]
  },
  {
   "cell_type": "code",
   "execution_count": 21,
   "metadata": {},
   "outputs": [],
   "source": [
    "from difflib import SequenceMatcher"
   ]
  },
  {
   "cell_type": "code",
   "execution_count": 12,
   "metadata": {},
   "outputs": [],
   "source": [
    "def get_harakat(s, space=''):\n",
    "    res = ''\n",
    "\n",
    "    S, T, _ = get_sentence_tachkil(s)\n",
    "\n",
    "    for i, j in zip(S, T):\n",
    "        if j == -1:\n",
    "            if i == ' ':\n",
    "                res += space\n",
    "            else:\n",
    "                res += 'O'\n",
    "        elif j == 12:\n",
    "            res += 'O'\n",
    "        else:\n",
    "            res += '|'\n",
    "\n",
    "    # print(res)\n",
    "    return res"
   ]
  },
  {
   "cell_type": "code",
   "execution_count": null,
   "metadata": {},
   "outputs": [],
   "source": []
  },
  {
   "cell_type": "code",
   "execution_count": 13,
   "metadata": {},
   "outputs": [
    {
     "data": {
      "text/plain": [
       "'||O|O||O|O|O||O|O||O||O'"
      ]
     },
     "execution_count": 13,
     "metadata": {},
     "output_type": "execute_result"
    }
   ],
   "source": [
    "get_harakat('فَعُولُنْ مَفَاعِيلُنْ فَعُولُنْ مَفَاعِلُنْ')"
   ]
  },
  {
   "cell_type": "code",
   "execution_count": 28,
   "metadata": {},
   "outputs": [],
   "source": [
    "text = 'شَمسُنْ إِذَا طَلَعَت سَجَدَتُ جَلَالَتَنْ'\n",
    "\n",
    "m = get_harakat(text)\n",
    "ratio_max = 0\n",
    "best = None\n",
    "\n",
    "for bahr in AWZAN:\n",
    "    # if bahr == selected_meter:\n",
    "        for mode in AWZAN[bahr]:\n",
    "            for wazn in mode:\n",
    "                h = get_harakat(wazn)\n",
    "                ratio = SequenceMatcher(None, m, h).ratio()\n",
    "                if ratio > ratio_max:\n",
    "                    ratio_max = ratio\n",
    "                    best = (bahr, wazn)\n",
    "                    # print(bahr,wazn) \n",
    "                    # print(get_harakat(wazn, space=' '))\n",
    "                    # print(m)"
   ]
  },
  {
   "cell_type": "code",
   "execution_count": 30,
   "metadata": {},
   "outputs": [
    {
     "name": "stdout",
     "output_type": "stream",
     "text": [
      "('kaamil', 'مُتْفَاعِلُنْ مُتَفَاعِلُنْ مُتَفَاعِلُنْ')\n",
      "|O|O||O|||O||O|||O||O\n",
      "|O|O||O|||O||||||O||O\n"
     ]
    }
   ],
   "source": [
    "print(best) \n",
    "print(get_harakat(best[1], space=''))\n",
    "print(m)"
   ]
  },
  {
   "cell_type": "code",
   "execution_count": 18,
   "metadata": {},
   "outputs": [
    {
     "data": {
      "text/plain": [
       "'|O|O||O|||O||||||O||O'"
      ]
     },
     "execution_count": 18,
     "metadata": {},
     "output_type": "execute_result"
    }
   ],
   "source": [
    "m"
   ]
  },
  {
   "cell_type": "code",
   "execution_count": 20,
   "metadata": {},
   "outputs": [
    {
     "data": {
      "text/plain": [
       "'|O|O||O|O|O||O|||O||O'"
      ]
     },
     "execution_count": 20,
     "metadata": {},
     "output_type": "execute_result"
    }
   ],
   "source": [
    "get_harakat('مُتْفَاعِلُنْ مُتْفَاعِلُنْ مُتَفَاعِلُنْ')"
   ]
  },
  {
   "cell_type": "code",
   "execution_count": 16,
   "metadata": {},
   "outputs": [],
   "source": [
    "def get_aroud(text, wazn):\n",
    "\n",
    "    wazn_h = get_harakat(wazn, space=' ')\n",
    "    text = text.replace(' ', '')\n",
    "\n",
    "    S, T, _ = get_sentence_tachkil(text)\n",
    "\n",
    "    for i in range(len(wazn_h)):\n",
    "        if wazn_h[i] == ' ':\n",
    "            S.insert(i, ' ')\n",
    "            T.insert(i, 14)\n",
    "\n",
    "    aroud = rebuild_sentence(S, T)\n",
    "\n",
    "    return {\n",
    "        'aroud':aroud.split(' '),\n",
    "        'tafil':wazn.split(' '),\n",
    "        'harakt':wazn_h.split(' ')\n",
    "    }\n"
   ]
  },
  {
   "cell_type": "code",
   "execution_count": 17,
   "metadata": {},
   "outputs": [
    {
     "data": {
      "text/plain": [
       "{'aroud': ['شَمسُنْإِذَا', 'طَلَعَتسَجَدَ', 'تُجَلَالَتَنْ'],\n",
       " 'tafil': ['مُتْفَاعِلُنْ', 'مُتْفَاعِلُنْ', 'مُتَفَاعِلُنْ'],\n",
       " 'harakt': ['|O|O||O', '|O|O||O', '|||O||O']}"
      ]
     },
     "execution_count": 17,
     "metadata": {},
     "output_type": "execute_result"
    }
   ],
   "source": [
    "get_aroud('شَمسُنْ إِذَا طَلَعَت سَجَدَتُ جَلَالَتَنْ', 'مُتْفَاعِلُنْ مُتْفَاعِلُنْ مُتَفَاعِلُنْ')"
   ]
  },
  {
   "cell_type": "code",
   "execution_count": 9,
   "metadata": {},
   "outputs": [
    {
     "name": "stdout",
     "output_type": "stream",
     "text": [
      "أَسِرْبَلقَطَاهَلْمَنْيُعِيْرُجَنَاحَهُو\n"
     ]
    }
   ],
   "source": [
    "a = '||O|O ||O|O|O ||O| ||O||O'\n",
    "text = 'أَسِرْبَ لقَطَا هَلْ مَنْ يُعِيْرُ جَنَاحَهُو'\n",
    "\n",
    "text = text.replace(' ', '')\n",
    "\n",
    "S, T, _ = get_sentence_tachkil(text)\n",
    "\n",
    "for i in range(len(a)):\n",
    "    if a[i] == ' ':\n",
    "        S.insert(i, ' ')\n",
    "        T.insert(i, 14)\n",
    "\n",
    "aroud = rebuild_sentence(S, T)\n"
   ]
  },
  {
   "cell_type": "code",
   "execution_count": 8,
   "metadata": {},
   "outputs": [
    {
     "name": "stdout",
     "output_type": "stream",
     "text": [
      "أ 0\n",
      "س 2\n",
      "ر 12\n",
      "ب 0\n",
      "ل -1\n",
      "  14\n",
      "ق 0\n",
      "ط 0\n",
      "ا -1\n",
      "ه 0\n",
      "ل 12\n",
      "م 0\n",
      "ن 12\n",
      "  14\n",
      "ي 1\n",
      "ع 2\n",
      "ي 12\n",
      "ر 1\n",
      "  14\n",
      "ج 0\n",
      "ن 0\n",
      "ا -1\n",
      "ح 0\n",
      "ه 1\n",
      "و -1\n"
     ]
    }
   ],
   "source": [
    "for i , j in zip(S, T):\n",
    "    print(i, j)"
   ]
  },
  {
   "cell_type": "code",
   "execution_count": 19,
   "metadata": {},
   "outputs": [
    {
     "name": "stdout",
     "output_type": "stream",
     "text": [
      "[0, 2, 12, 0, -1, 14, 0, 0, -1, 0, 12, 0, 12, 14, 1, 2, 12, 1, 14, 0, 0, -1, 0, 1, -1]\n"
     ]
    }
   ],
   "source": [
    "print(T)"
   ]
  },
  {
   "cell_type": "code",
   "execution_count": 16,
   "metadata": {},
   "outputs": [
    {
     "data": {
      "text/plain": [
       "'ّ'"
      ]
     },
     "execution_count": 16,
     "metadata": {},
     "output_type": "execute_result"
    }
   ],
   "source": [
    "['َ', 'ُ', 'ِ', 'ً', 'ٌ', 'ٍ', 'َّ', 'ُّ', 'ِّ','ًّ', 'ٌّ', 'ٍّ', 'ْ','ّ'][13]"
   ]
  }
 ],
 "metadata": {
  "interpreter": {
   "hash": "916dbcbb3f70747c44a77c7bcd40155683ae19c65e1c03b4aa3499c5328201f1"
  },
  "kernelspec": {
   "display_name": "Python 3.8.10 64-bit",
   "language": "python",
   "name": "python3"
  },
  "language_info": {
   "codemirror_mode": {
    "name": "ipython",
    "version": 3
   },
   "file_extension": ".py",
   "mimetype": "text/x-python",
   "name": "python",
   "nbconvert_exporter": "python",
   "pygments_lexer": "ipython3",
   "version": "3.8.10"
  },
  "orig_nbformat": 4
 },
 "nbformat": 4,
 "nbformat_minor": 2
}
